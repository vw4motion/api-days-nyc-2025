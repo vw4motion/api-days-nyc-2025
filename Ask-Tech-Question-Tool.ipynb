{
 "cells": [
  {
   "cell_type": "markdown",
   "id": "fe12c203-e6a6-452c-a655-afb8a03a4ff5",
   "metadata": {},
   "source": [
    "# Sample tool to get tech help\n",
    "\n",
    "Demonstrate familiarity with OpenAI API, and also Ollama, I built a tool that takes a technical question,  \n",
    "and responds with an explanation. This is a tool that you will be able to use on a daily basis!"
   ]
  },
  {
   "cell_type": "code",
   "execution_count": 13,
   "id": "c1070317-3ed9-4659-abe3-828943230e03",
   "metadata": {},
   "outputs": [],
   "source": [
    "# imports\n",
    "import os\n",
    "import requests\n",
    "import json\n",
    "from typing import List\n",
    "from dotenv import load_dotenv\n",
    "from bs4 import BeautifulSoup\n",
    "\n",
    "from IPython.display import Markdown, display, update_display\n",
    "from openai import OpenAI\n",
    "import ollama\n"
   ]
  },
  {
   "cell_type": "code",
   "execution_count": 14,
   "id": "4a456906-915a-4bfd-bb9d-57e505c5093f",
   "metadata": {},
   "outputs": [],
   "source": [
    "# constants\n",
    "MODEL_GPT = 'gpt-4o-mini'\n",
    "MODEL_LLAMA = 'llama3.2'"
   ]
  },
  {
   "cell_type": "code",
   "execution_count": 18,
   "id": "a8d7923c-5f28-4c30-8556-342d7c8497c1",
   "metadata": {},
   "outputs": [
    {
     "name": "stdout",
     "output_type": "stream",
     "text": [
      "API key looks good so far\n"
     ]
    }
   ],
   "source": [
    "# set up environment\n",
    "\n",
    "load_dotenv(override=True)\n",
    "api_key = os.getenv('OPENAI_API_KEY')\n",
    "\n",
    "if api_key and api_key.startswith('sk-proj-') and len(api_key)>10:\n",
    "    print(\"API key looks good so far\")\n",
    "else:\n",
    "    print(\"There might be a problem with your API key? Please do the notebook troubleshooting!\")\n",
    "    \n",
    "openai = OpenAI()"
   ]
  },
  {
   "cell_type": "code",
   "execution_count": 19,
   "id": "3f0d0137-52b0-47a8-81a8-11a90a010798",
   "metadata": {},
   "outputs": [],
   "source": [
    "# here is the question; type over this to ask something new\n",
    "\n",
    "question1 = \"What is Agentic AI?\"\n",
    "\n",
    "question2 = \"Why do attendees of API Days conference LOVE APIs?\""
   ]
  },
  {
   "cell_type": "code",
   "execution_count": 20,
   "id": "8d1a7fb7-b20f-401b-a920-0107e2af0e62",
   "metadata": {},
   "outputs": [],
   "source": [
    "# prompts\n",
    "\n",
    "system_prompt = \"You are a helpful technical tutor who answers questions about python code, software engineering, data science and LLMs\"\n",
    "user_prompt = \"Please give a detailed explanation to the following question: \" + question2\n"
   ]
  },
  {
   "cell_type": "code",
   "execution_count": 21,
   "id": "60ce7000-a4a5-4cce-a261-e75ef45063b4",
   "metadata": {},
   "outputs": [],
   "source": [
    "# messages\n",
    "\n",
    "messages = [\n",
    "    {\"role\": \"system\", \"content\": system_prompt},\n",
    "    {\"role\": \"user\", \"content\": user_prompt}\n",
    "]"
   ]
  },
  {
   "cell_type": "code",
   "execution_count": 22,
   "id": "4c1950f6-ca31-479e-8a54-2b555d714f45",
   "metadata": {},
   "outputs": [
    {
     "data": {
      "text/markdown": [
       "Attendees of the API Days conference typically express enthusiasm for APIs (Application Programming Interfaces) for several reasons. Here’s a detailed breakdown of these reasons:\n",
       "\n",
       "### 1. **Understanding and Leveraging Integration:**\n",
       "   - **Interoperability**: APIs serve as a crucial middleware that allows different software systems to communicate with one another. Attendees appreciate how APIs facilitate integration across disparate systems, enabling businesses to create cohesive environments.\n",
       "   - **Ecosystem Development**: Many attendees are part of organizations that rely on creating a robust ecosystem where applications, services, and data can easily share and exchange information.\n",
       "\n",
       "### 2. **Innovation and Agility:**\n",
       "   - **Rapid Development**: APIs allow developers to leverage existing functionalities without having to build from scratch. This accelerates development timelines and fosters innovation.\n",
       "   - **Access to New Technologies**: APIs provide access to cutting-edge technologies and services, allowing attendees to integrate advanced features (like machine learning, data analytics, and cloud services) into their applications more readily.\n",
       "\n",
       "### 3. **Business Opportunities:**\n",
       "   - **Monetization**: Businesses can build revenue-generating models around APIs, such as offering them as products or using them to enhance services. Attendees are often interested in discovering how APIs can drive profitability.\n",
       "   - **Partnership and Collaboration**: APIs facilitate collaborations between companies, allowing them to partner on new projects and initiatives, which is often a key topic at the conference.\n",
       "\n",
       "### 4. **Standardization and Scalability:**\n",
       "   - **Adoption of Standards**: APIs often follow industry standards (like REST, GraphQL, or SOAP), which helps in creating uniformity across applications. This reduces development complexity and promotes easier maintenance.\n",
       "   - **Scalability**: Attendees understand that well-designed APIs allow applications to scale efficiently without requiring significant re-engineering, which is vital for growing businesses.\n",
       "\n",
       "### 5. **Data Accessibility and Management:**\n",
       "   - **Data as a Service**: APIs enable organizations to expose their data securely while providing the necessary control. This paradigm is enticing for attendees who want to make their data accessible and useful.\n",
       "   - **Analytics and Insights**: APIs allow for the collection and analysis of data across different platforms, providing valuable insights that can lead to improved decision-making.\n",
       "\n",
       "### 6. **Community and Collaboration:**\n",
       "   - **Networking Opportunities**: The API Days conference fosters a community of practitioners who share knowledge, experiences, and challenges about APIs. Attendees love engaging in discussions that can lead to collaborations and community-driven projects.\n",
       "   - **Learning from Experts**: Sessions often feature industry leaders sharing insights, case studies, and real-world applications of APIs that can inspire attendees and enhance their understanding.\n",
       "\n",
       "### 7. **Empowering Developers:**\n",
       "   - **Developer Experience**: Attendees appreciate how APIs can empower developers to create better user experiences. Providing easy-to-use, well-documented APIs can result in faster and more effective solutions.\n",
       "   - **Tools and Frameworks**: The conference often highlights the latest tools and frameworks that simplify API development, versioning, testing, and documentation—of great importance to developers.\n",
       "\n",
       "### 8. **Security and Compliance:**\n",
       "   - **Enhanced Security**: APIs can enforce security measures effectively, such as OAuth for authentication and data encryption. Attendees value discussions around best practices for securing APIs.\n",
       "   - **Compliance**: With regulations like GDPR, attendees recognize the importance of APIs in managing compliance-related tasks through proper data handling and communication practices.\n",
       "\n",
       "### Conclusion:\n",
       "In summary, attendees of the API Days conference love APIs because they represent a powerful means of enabling connectivity, fostering innovation, and unlocking opportunities for collaboration and growth. The conference serves as a platform for sharing best practices, learning from industry leaders, and exploring the latest trends and technologies related to APIs, which collectively enhance their appreciation and enthusiasm for API use in their professional environments."
      ],
      "text/plain": [
       "<IPython.core.display.Markdown object>"
      ]
     },
     "metadata": {},
     "output_type": "display_data"
    }
   ],
   "source": [
    "# Get gpt-4o-mini to answer, with streaming\n",
    "\n",
    "stream = openai.chat.completions.create(model=MODEL_GPT, messages=messages,stream=True)\n",
    "    \n",
    "response = \"\"\n",
    "display_handle = display(Markdown(\"\"), display_id=True)\n",
    "for chunk in stream:\n",
    "    response += chunk.choices[0].delta.content or ''\n",
    "    response = response.replace(\"```\",\"\").replace(\"markdown\", \"\")\n",
    "    update_display(Markdown(response), display_id=display_handle.display_id)\n",
    "    "
   ]
  },
  {
   "cell_type": "code",
   "execution_count": 23,
   "id": "8f7c8ea8-4082-4ad0-8751-3301adcf6538",
   "metadata": {},
   "outputs": [
    {
     "data": {
      "text/markdown": [
       "API Days is a popular conference that focuses on Application Programming Interfaces (APIs). While it's not uncommon for audiences at conferences like this to be passionate about APIs, I'll attempt to provide some insights into why attendees might love APIs.\n",
       "\n",
       "**What is an API?**\n",
       "\n",
       "Before diving deeper, let's define what an API is. An Application Programming Interface (API) is a set of defined rules that enables different applications, services, or systems to communicate with each other. It acts as an intermediary between two systems, allowing them to exchange data, resources, or actions.\n",
       "\n",
       "**Why do attendees love APIs?**\n",
       "\n",
       "There are several reasons why attendees at API Days conferences might be enthusiastic about APIs:\n",
       "\n",
       "1. **Interoperability**: APIs enable different systems and applications to work together seamlessly, regardless of their underlying technology stack. This concept of interoperability is essential for building modern, interconnected systems.\n",
       "2. **Reusability**: Well-designed APIs allow developers to reuse existing functionality across multiple applications or services, reducing the need to duplicate effort and increasing productivity.\n",
       "3. **Scalability**: APIs enable organizations to break down monolithic systems into smaller, more manageable components, making it easier to scale individual services while maintaining overall system performance.\n",
       "4. **Flexibility**: APIs offer a high degree of flexibility, allowing developers to choose the best tools, frameworks, and technologies for each specific task or project.\n",
       "5. **Innovation**: APIs facilitate innovation by providing a mechanism for new applications, services, or features to be built upon existing infrastructure. This accelerates the pace of technological progress.\n",
       "6. **Reusability of knowledge**: With well-documented APIs, developers can build upon others' work, reducing the need to recreate functionality from scratch and speeding up the development process.\n",
       "7. **Business opportunities**: APIs create new business models, revenue streams, and partnerships by enabling companies to offer services as a product or API, rather than just providing a proprietary solution.\n",
       "\n",
       "**Why is it specific to API Days attendees?**\n",
       "\n",
       "API Days attendees might be more enthusiastic about APIs due to several factors:\n",
       "\n",
       "1. **Target audience**: The conference's focus on APIs attracts professionals who work with APIs on a daily basis, making them naturally interested in the subject.\n",
       "2. **Practical application**: The conference likely covers topics like API design, development, security, and deployment, which are directly relevant to attendees' professional lives.\n",
       "3. **Hands-on experience**: Many attendees at conferences like API Days probably have hands-on experience building, consuming, or maintaining APIs, giving them a deeper understanding of the technology.\n",
       "\n",
       "**Conclusion**\n",
       "\n",
       "Attendees of API Days conferences likely love APIs because they understand the power and versatility of these interfaces in enabling interoperability, reusability, scalability, flexibility, innovation, reuse of knowledge, and new business opportunities. Their enthusiasm stems from their practical experience working with APIs and their desire to learn more about the latest developments and best practices in the field.\n",
       "\n",
       "How's this explanation? Do you have any follow-up questions on this topic?"
      ],
      "text/plain": [
       "<IPython.core.display.Markdown object>"
      ]
     },
     "metadata": {},
     "output_type": "display_data"
    }
   ],
   "source": [
    "# Get Llama 3.2 to answer (locally running, no cost)\n",
    "response = ollama.chat(model=MODEL_LLAMA, messages=messages)\n",
    "reply = response['message']['content']\n",
    "display(Markdown(reply))"
   ]
  },
  {
   "cell_type": "code",
   "execution_count": null,
   "id": "11acfed0-848b-4129-b94d-8a98910d0acd",
   "metadata": {},
   "outputs": [],
   "source": []
  },
  {
   "cell_type": "code",
   "execution_count": null,
   "id": "49c693ae-1bda-4ec8-a4cf-e5376080459e",
   "metadata": {},
   "outputs": [],
   "source": []
  }
 ],
 "metadata": {
  "kernelspec": {
   "display_name": "Python 3 (ipykernel)",
   "language": "python",
   "name": "python3"
  },
  "language_info": {
   "codemirror_mode": {
    "name": "ipython",
    "version": 3
   },
   "file_extension": ".py",
   "mimetype": "text/x-python",
   "name": "python",
   "nbconvert_exporter": "python",
   "pygments_lexer": "ipython3",
   "version": "3.11.11"
  }
 },
 "nbformat": 4,
 "nbformat_minor": 5
}
